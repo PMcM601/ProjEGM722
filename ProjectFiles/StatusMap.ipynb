{
 "cells": [
  {
   "cell_type": "markdown",
   "id": "b1aab8e7-ba00-46fe-bf96-dec141ab9507",
   "metadata": {},
   "source": [
    "# Water Quality and Storm Overflows\n",
    "\n",
    "## Introduction\n",
    "\n",
    "This Jupyter notebook will take you through creating an interactive map to display Waterbodies by Status (2015) and the Storm Overflow and Treated Discharge locations (NI Water).\n",
    "\n",
    "## Datasets used\n",
    "\n",
    "1. Surface Water Bodies Status 2015: [Available from DAERA OpenData](https://opendata-daerani.hub.arcgis.com/datasets/5229391e8cf142e384294ea12eace331_0/explore?location=54.633088%2C-6.837836%2C8.54) \n",
    "2. Modelled Spills May 2024 (Excel)* [Available from NI Water](https://www.niwater.com/siteFiles/resources/xls/NIWaterModelledSpillsMay2024v2.xlsx)\n",
    "3. Wastewater Treatment Works Treated Discharges May 2024 (Excel)* [Available from NI Water](https://www.niwater.com/siteFiles/resources/xls/NIWaterTreatedDischargesMay2024.xlsx)\n",
    "4. Event Duration Monitor Data (Excel)* [Available from NI Water](https://www.niwater.com/siteFiles/resources/2025/EventDurationMonitorDataApril2025.xlsx)\n",
    "\n",
    "*More NI Water Information can be found on the [NI Water Storm Overflows page](https://www.niwater.com/storm/overflow/)\n",
    "\n",
    "## Step One\n",
    "\n",
    "You will need to import the packages panda, geopanda and folium. This can be done by running the cell below:"
   ]
  },
  {
   "cell_type": "code",
   "execution_count": 72,
   "id": "65d74551-6c3b-470b-8612-bde4a638999f",
   "metadata": {},
   "outputs": [],
   "source": [
    "import pandas as pd\n",
    "import geopandas as gpd\n",
    "import folium"
   ]
  },
  {
   "cell_type": "markdown",
   "id": "9078cc18-4c8d-424f-a7a7-9f75f1b2ef45",
   "metadata": {},
   "source": [
    "## Step Two\n",
    "\n",
    "Add in the Surface Water Bodies (2015) Shapefile by running the below cell.\n",
    "Note: If trying to replicate this you may need to first use the Repair Geometry tool in ArcGIS Pro, due to errors with \"winding orders\""
   ]
  },
  {
   "cell_type": "code",
   "execution_count": 73,
   "id": "80e98b67-8087-4af6-9610-5d60f496f2b6",
   "metadata": {},
   "outputs": [],
   "source": [
    "bodies = gpd.read_file('Datasets/Surface_Water_Bodies_2015_Status_Coloured.shp')"
   ]
  },
  {
   "cell_type": "markdown",
   "id": "2cf950c2-fa0b-4fa3-8cbe-8b2c94c551ce",
   "metadata": {},
   "source": [
    "To confirm it loaded in correctly you can run the below cell to get a table view, which should show details for Mourne Coast and a couple of other Surface Waterbodies"
   ]
  },
  {
   "cell_type": "code",
   "execution_count": null,
   "id": "75c0de18-ad3a-4022-b6fb-7b1b5189d2a6",
   "metadata": {},
   "outputs": [],
   "source": [
    "bodies.head()"
   ]
  },
  {
   "cell_type": "markdown",
   "id": "1bdf3d22-0ae4-42dd-b81b-68baba62c5f3",
   "metadata": {},
   "source": [
    "## Step Three\n",
    "\n",
    "Run the below code to generate the Surface Water Bodies map, with colour coding inspired by [NIEA Catchment Data Map Viewer](https://gis.daera-ni.gov.uk/arcgis/apps/webappviewer/index.html?id=16fddc459bd04d64b9e8f084f3a8e14a) symbology. E.g. Blue = High, and Red = Poor or Poor Ecological Potential (PEP)."
   ]
  },
  {
   "cell_type": "code",
   "execution_count": null,
   "id": "fd1b1ebc-ebe2-4e2e-9538-db9a89442888",
   "metadata": {},
   "outputs": [],
   "source": [
    "import folium\n",
    "\n",
    "# Create a Folium map\n",
    "m = folium.Map(location=[54.6, -5.9], zoom_start=10)\n",
    "\n",
    "color_dict = {\n",
    "    \"BAD\": \"red\", \"BEP\": \"red\",\n",
    "    \"POOR\": \"orange\", \"PEP\": \"orange\",\n",
    "    \"MODERATE\": \"yellow\", \"MEP\": \"yellow\", \"MEP*\": \"yellow\",\n",
    "    \"GOOD\": \"green\" , \"GEP\": \"green\",\n",
    "    \"HIGH\": \"blue\"\n",
    "}\n",
    "bodies[\"color\"] = bodies[\"Stat_2015\"].map(color_dict)\n",
    "\n",
    "m = bodies.explore(color=bodies[\"color\"])\n",
    "\n",
    "m"
   ]
  },
  {
   "cell_type": "markdown",
   "id": "595fa61c-50c7-4dd6-b36e-0d1f31cb505d",
   "metadata": {},
   "source": [
    "## Step Four\n",
    "\n",
    "Load in the Storm Overflows Discharge Points. Note: While NI Water mentions 2,440 Storm Overflows, some have multiple discharges meaning that 2,482 points should display on the Map.\n",
    "\n",
    "You have two options here.\n",
    "\n",
    "1. Run the cell below, to import data from a csv file, or\n",
    "2. Clear the CSV script and copy the text below the cell for importing a shapefile of the data.\n"
   ]
  },
  {
   "cell_type": "code",
   "execution_count": null,
   "id": "f6d571b3-0f69-4a8c-a609-6c21f25b13d4",
   "metadata": {
    "scrolled": true
   },
   "outputs": [],
   "source": [
    "df = pd.read_csv('Datasets/EGM722_ModelledSpillsFME.csv') # read the csv data\n",
    "\n",
    "# create a new geodataframe\n",
    "overflows = gpd.GeoDataFrame(df[['Name', 'CARID', '2023 Spill Count', '2024 Spill count', 'Monitored']], # use the csv data, but only the name/CARID/Spill Counts/Monitored columns\n",
    "                            geometry=gpd.points_from_xy(df['X'], df['Y']), # set the geometry using points_from_xy where X and Y columns are the coordinates\n",
    "                            crs='epsg:29902') # NI Water data uses the Irish Grid TM65 coordinate system\n",
    "\n",
    "overflows = overflows.to_crs(epsg=4326) #converting it to WGS84 as it will help with later tasks.\n",
    "\n",
    "overflows.head() # show that this has worked by displaying a table\n",
    "\n",
    "# Note only 232 of the 2,440 Overflows (237 of 2,482 discharges) have monitors installed. So if you see NaN that's due to no data available (nulls)"
   ]
  },
  {
   "cell_type": "markdown",
   "id": "89034866-d5ee-4e0c-a600-da16525058d5",
   "metadata": {},
   "source": [
    "## Step Five\n",
    "\n",
    "To display the Overflows on the map run the cell below:\n",
    "\n",
    "Note: Colours slightly different than those displayed on the [NI Water Storm Overflow Map](https://www.niwater.com/storm/overflow/)"
   ]
  },
  {
   "cell_type": "code",
   "execution_count": null,
   "id": "e53cbc6f-f52e-48c5-a7a8-7d799454acf5",
   "metadata": {
    "scrolled": true
   },
   "outputs": [],
   "source": [
    "    # Add Storm Overflow points\n",
    "for _, row in overflows.iterrows():\n",
    "    folium.CircleMarker(\n",
    "        location=[row[\"geometry\"].y, row[\"geometry\"].x],\n",
    "        radius=1.5,\n",
    "        color=\"black\" if row[\"Monitored\"] != \"Yes\" else \"blue\",\n",
    "        fill=True,\n",
    "        fill_opacity=0.8,\n",
    "        popup=f\"Name: {row['Name']}\\n| Spills 2023: {row['2023 Spill Count']}\\n| 2024 Spills: {row['2024 Spill count']}\"\n",
    "    ).add_to(m)\n",
    "# Display the map\n",
    "m\n",
    "\n",
    "#Note you may notice that Ballyclose Street CSO displays in Ukraine - I suspect there is a translation error somewhere, because it's ~1,450miles away from Ballyclose Street Limavady.\n",
    "#Could call it Ballyfar I guess? or given it's Star Wars weekend, at least the rest of the points didn't display in Alderaan places\n"
   ]
  },
  {
   "cell_type": "markdown",
   "id": "cdb3a0bb-7045-41ce-b9a2-3c601eb11bbe",
   "metadata": {},
   "source": [
    "## Step Six\n",
    "\n",
    "To add Wastewater Treatment Works Points, to the data, run the cell below.\n",
    "\n",
    "Note: NI Water data shows 1,022 WwTWs - but with some having multiple outlets (e.g. Belfast [3]) there are 1,042 points that will be added."
   ]
  },
  {
   "cell_type": "code",
   "execution_count": null,
   "id": "7d05e392-ab72-4f3e-b824-173cc11dc196",
   "metadata": {
    "scrolled": true
   },
   "outputs": [],
   "source": [
    "df = pd.read_csv('Datasets/EGM722_TreatedDischargesFME.csv') # read the csv data\n",
    "\n",
    "# create a new geodataframe\n",
    "wwtws = gpd.GeoDataFrame(df[['Name', 'CARID']], # use the csv data, but only the Name/CARID columns\n",
    "                            geometry=gpd.points_from_xy(df['X'], df['Y']), # set the geometry using points_from_xy where X and Y columns are the coordinates\n",
    "                            crs='epsg:29902') # NI Water data uses the Irish Grid TM65 coordinate system\n",
    "\n",
    "wwtws = wwtws.to_crs(epsg=4326) #converting it to WGS84 as it will help with later tasks.\n",
    "\n",
    "wwtws.head() # show that this has worked by displaying a table"
   ]
  },
  {
   "cell_type": "markdown",
   "id": "9e6fdd87-5eec-4724-8801-40feb2677e81",
   "metadata": {},
   "source": [
    "# Step 6\n",
    "\n",
    "To add these points Treated Discharge points to the map run the cell below:"
   ]
  },
  {
   "cell_type": "code",
   "execution_count": null,
   "id": "9db3d9a1-9a11-450f-b512-93e7603fd6fa",
   "metadata": {
    "scrolled": true
   },
   "outputs": [],
   "source": [
    "# Add WwTW points\n",
    "for _, row in wwtws.iterrows():\n",
    "    folium.CircleMarker(\n",
    "        location=[row[\"geometry\"].y, row[\"geometry\"].x],\n",
    "        radius=1.5,\n",
    "        color=\"purple\",\n",
    "        fill=True,\n",
    "        fill_opacity=0.8,\n",
    "        popup=row[\"Name\"],\n",
    "    ).add_to(m)\n",
    "# Display the map\n",
    "m"
   ]
  },
  {
   "cell_type": "markdown",
   "id": "9d285482-2fba-4232-91f6-ef75e91a34af",
   "metadata": {},
   "source": [
    "If the map symbology (colour and sizing) is to your liking you can save it to a HTML file by running the next cell"
   ]
  },
  {
   "cell_type": "code",
   "execution_count": 136,
   "id": "428c3250-79cf-4d7d-90b3-586065282136",
   "metadata": {},
   "outputs": [],
   "source": [
    "m.save('StatusMap.html')"
   ]
  },
  {
   "cell_type": "markdown",
   "id": "1d7cce28-8b54-4a5a-bf02-d80e626b4f9f",
   "metadata": {},
   "source": [
    "# Footnote\n",
    "\n",
    "# FME File names\n",
    "\n",
    "You may notice the csv files having FME in the name. These were created by using FME to split the Duplicate discharge points from the tables provided by NI Water, and create standalone XY coordinate fields.\n",
    "\n",
    "e.g. Ballygobackwards CSO 123456,234567 / 345678,456789\n",
    "\n",
    "to:\n",
    "\n",
    "Ballygobackwards CSO | X: 123456 | Y: 234567\n",
    "\n",
    "Ballygobackwards CSO | X: 345678 | Y: 456789\n",
    "\n",
    "# Inspiration\n",
    "\n",
    "This could help outsiders to do some analysis with openly available data sources, to compare the likes of Spill Data with Water Quality. While it doesn't necessarily mean that NI Water Assets are the sole cause of the water quality results, there could be some contribution."
   ]
  },
  {
   "cell_type": "code",
   "execution_count": null,
   "id": "06522d59-502c-42a4-b7b4-9baa03de70af",
   "metadata": {},
   "outputs": [],
   "source": []
  }
 ],
 "metadata": {
  "kernelspec": {
   "display_name": "Python 3 (ipykernel)",
   "language": "python",
   "name": "python3"
  },
  "language_info": {
   "codemirror_mode": {
    "name": "ipython",
    "version": 3
   },
   "file_extension": ".py",
   "mimetype": "text/x-python",
   "name": "python",
   "nbconvert_exporter": "python",
   "pygments_lexer": "ipython3",
   "version": "3.13.2"
  }
 },
 "nbformat": 4,
 "nbformat_minor": 5
}
